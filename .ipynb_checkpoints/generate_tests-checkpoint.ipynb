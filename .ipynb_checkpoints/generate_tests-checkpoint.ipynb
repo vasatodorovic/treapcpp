{
 "cells": [
  {
   "cell_type": "code",
   "execution_count": 1,
   "id": "5c04ae0a",
   "metadata": {},
   "outputs": [],
   "source": [
    "import random\n",
    "import os\n",
    "\n",
    "def generate_elements(num_elements, num_tests):\n",
    "    elements = [random.randint(-num_elements, num_elements) for _ in range(num_elements)]\n",
    "    tests = []\n",
    "    for _ in range(num_tests):\n",
    "        priorities = [random.randint(-10000, 10000) for _ in range(num_elements)]\n",
    "        tests.append(list(zip(elements, priorities)))\n",
    "    return tests"
   ]
  },
  {
   "cell_type": "code",
   "execution_count": 2,
   "id": "910c9c74",
   "metadata": {},
   "outputs": [],
   "source": [
    "def write_tests_to_files(tests, num_elements):\n",
    "    if not os.path.exists(\"tests\"):\n",
    "        os.makedirs(\"tests\")\n",
    "    for i, test in enumerate(tests):\n",
    "        with open(f\"tests/test_{num_elements}_{i}.txt\", \"w\") as f:\n",
    "            for key, priority in test:\n",
    "                f.write(f\"{key} {priority}\\n\")"
   ]
  },
  {
   "cell_type": "code",
   "execution_count": null,
   "id": "250deda7",
   "metadata": {},
   "outputs": [],
   "source": []
  }
 ],
 "metadata": {
  "kernelspec": {
   "display_name": "Python 3 (ipykernel)",
   "language": "python",
   "name": "python3"
  },
  "language_info": {
   "codemirror_mode": {
    "name": "ipython",
    "version": 3
   },
   "file_extension": ".py",
   "mimetype": "text/x-python",
   "name": "python",
   "nbconvert_exporter": "python",
   "pygments_lexer": "ipython3",
   "version": "3.10.3"
  }
 },
 "nbformat": 4,
 "nbformat_minor": 5
}
